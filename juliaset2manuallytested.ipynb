{
 "cells": [
  {
   "cell_type": "markdown",
   "metadata": {
    "collapsed": false
   },
   "source": [
    "# Homework Set 4\n",
    "# JuliaSet with numpy\n",
    "# Done by Sidy Danioko\n"
   ]
  },
  {
   "cell_type": "code",
   "execution_count": 5,
   "metadata": {
    "collapsed": true
   },
   "outputs": [],
   "source": [
    "#!/usr/bin/env python\n",
    "version = 0.2\n",
    "\n",
    "# In here, let's define our class and its constructors\n",
    "import math \n",
    "\n",
    "class JuliaSet:\n",
    "    def __init__(self, c, m = 100):\n",
    "        self.c = c\n",
    "        self.m = m\n",
    "        print \" The complex part of the class is : \", self.c\n",
    "        print  \" The number of iteration is : \", self.m\n",
    "\n",
    "                "
   ]
  },
  {
   "cell_type": "code",
   "execution_count": 7,
   "metadata": {
    "collapsed": false
   },
   "outputs": [
    {
     "name": "stdout",
     "output_type": "stream",
     "text": [
      " The complex part of the class is :  (1+1j)\n",
      " The number of iteration is :  100\n"
     ]
    }
   ],
   "source": [
    "JuliaSetObject = JuliaSet(1+1j,)"
   ]
  },
  {
   "cell_type": "code",
   "execution_count": 8,
   "metadata": {
    "collapsed": true
   },
   "outputs": [],
   "source": [
    "import math \n",
    "\n",
    "class JuliaSet:\n",
    "    def __init__(self, c, m = 100):\n",
    "        self._d = 0.001\n",
    "        self.c = c\n",
    "        self.m = m\n",
    "        print \" The complex part of the class is : \", self.c\n",
    "        print  \" The number of iteration is : \", self.m\n",
    "        print \" The step size is : \", self._d"
   ]
  },
  {
   "cell_type": "code",
   "execution_count": 9,
   "metadata": {
    "collapsed": false
   },
   "outputs": [
    {
     "name": "stdout",
     "output_type": "stream",
     "text": [
      " The complex part of the class is :  (1+1j)\n",
      " The number of iteration is :  100\n",
      " The step size is :  0.001\n"
     ]
    }
   ],
   "source": [
    "JuliaSetObject = JuliaSet(1+1j,)"
   ]
  },
  {
   "cell_type": "code",
   "execution_count": 10,
   "metadata": {
    "collapsed": true
   },
   "outputs": [],
   "source": [
    "import math \n",
    "\n",
    "class JuliaSet:\n",
    "    def __init__(self, c, m = 100):\n",
    "        self._d = 0.001\n",
    "        self.c = c\n",
    "        self.m = m\n",
    "        print \" The complex part of the class is : \", c\n",
    "        print  \" The number of iteration is : \", m\n",
    "        \n",
    "\n",
    "    def juliamap(self,z):\n",
    "        return z**2 + self.c"
   ]
  },
  {
   "cell_type": "code",
   "execution_count": 11,
   "metadata": {
    "collapsed": false
   },
   "outputs": [
    {
     "name": "stdout",
     "output_type": "stream",
     "text": [
      " The complex part of the class is :  (1+1j)\n",
      " The number of iteration is :  100\n"
     ]
    }
   ],
   "source": [
    "juliaSetObject = JuliaSet(1+1j,)"
   ]
  },
  {
   "cell_type": "code",
   "execution_count": 12,
   "metadata": {
    "collapsed": true
   },
   "outputs": [],
   "source": [
    "import math \n",
    "\n",
    "class JuliaSet:\n",
    "    def __init__(self, c, m = 100):\n",
    "        self._d = 0.001\n",
    "        self.c = c\n",
    "        self.m = m\n",
    "\n",
    "    def juliamap(self,z):\n",
    "        return z**2 + self.c\n",
    "    \n",
    "    def iterate(self,z):\n",
    "        for counter in range(1,self.m+1): # Normally, this counter should start at zero. But, if we \n",
    "            # start zero, we will never know we went through the loop once\n",
    "            z = self.juliamap(z)\n",
    "            if math.sqrt(z.real**2 + z.imag**2) > 2 :\n",
    "                return counter\n",
    "        return 0\n",
    "                "
   ]
  },
  {
   "cell_type": "code",
   "execution_count": 13,
   "metadata": {
    "collapsed": false
   },
   "outputs": [
    {
     "data": {
      "text/plain": [
       "1"
      ]
     },
     "execution_count": 13,
     "metadata": {},
     "output_type": "execute_result"
    }
   ],
   "source": [
    "juliaSetObject = JuliaSet(10+10j)\n",
    "juliaSetObject.iterate(1-1j)"
   ]
  },
  {
   "cell_type": "code",
   "execution_count": 16,
   "metadata": {
    "collapsed": true
   },
   "outputs": [],
   "source": [
    "import math \n",
    "import numpy as np\n",
    "class JuliaSet:\n",
    "    def __init__(self, c, m = 100):\n",
    "        self._d = 0.001\n",
    "        self.c = c\n",
    "        self.m = m\n",
    "        self._complexplane = []\n",
    "    def create_a_plane(self):\n",
    "        self.limit = 2\n",
    "        self.r = np.arange(-self.limit,self.limit,self._d)\n",
    "        self._complexplane = self.r[:,np.newaxis] + self.r[np.newaxis,:]*1j # In here, we are creating two axis where each \n",
    "        # axis is from -2 to 2 subdisied equally with a step of 0.001\n",
    "        \n",
    "\n"
   ]
  },
  {
   "cell_type": "code",
   "execution_count": 17,
   "metadata": {
    "collapsed": false
   },
   "outputs": [
    {
     "name": "stdout",
     "output_type": "stream",
     "text": [
      "10 loops, best of 3: 188 ms per loop\n"
     ]
    },
    {
     "data": {
      "text/plain": [
       "array([[-2.000-2.j   , -2.000-1.999j, -2.000-1.998j, ..., -2.000+1.997j,\n",
       "        -2.000+1.998j, -2.000+1.999j],\n",
       "       [-1.999-2.j   , -1.999-1.999j, -1.999-1.998j, ..., -1.999+1.997j,\n",
       "        -1.999+1.998j, -1.999+1.999j],\n",
       "       [-1.998-2.j   , -1.998-1.999j, -1.998-1.998j, ..., -1.998+1.997j,\n",
       "        -1.998+1.998j, -1.998+1.999j],\n",
       "       ..., \n",
       "       [ 1.997-2.j   ,  1.997-1.999j,  1.997-1.998j, ...,  1.997+1.997j,\n",
       "         1.997+1.998j,  1.997+1.999j],\n",
       "       [ 1.998-2.j   ,  1.998-1.999j,  1.998-1.998j, ...,  1.998+1.997j,\n",
       "         1.998+1.998j,  1.998+1.999j],\n",
       "       [ 1.999-2.j   ,  1.999-1.999j,  1.999-1.998j, ...,  1.999+1.997j,\n",
       "         1.999+1.998j,  1.999+1.999j]])"
      ]
     },
     "execution_count": 17,
     "metadata": {},
     "output_type": "execute_result"
    }
   ],
   "source": [
    "juliasetObject = JuliaSet(1+1j)\n",
    "%timeit juliasetObject.create_a_plane()\n",
    "juliasetObject._complexplane\n"
   ]
  },
  {
   "cell_type": "code",
   "execution_count": null,
   "metadata": {
    "collapsed": true
   },
   "outputs": [],
   "source": [
    "# As result by timing the _complexeplane in the first juliaset project, we that \" 1 loops, best of 3: 7.99 s per loop \". \n",
    "# by using numpy, we can say the stratification of our complex plane was done in faster pace than that of using the list "
   ]
  },
  {
   "cell_type": "code",
   "execution_count": 18,
   "metadata": {
    "collapsed": true
   },
   "outputs": [],
   "source": [
    "import math \n",
    "import numpy as np\n",
    "class JuliaSet:\n",
    "    def __init__(self, c, m = 100):\n",
    "        self._d = 0.001\n",
    "        self.c = c\n",
    "        self.m = m\n",
    "        self._complexplane = []\n",
    "    def create_a_plane(self):\n",
    "        self.limit = 2\n",
    "        self.r = np.arange(-self.limit,self.limit,self._d)\n",
    "        self._complexplane = self.r[:,np.newaxis] + self.r[np.newaxis,:]*1j\n",
    "        \n",
    "        \n",
    "    def juliamap(self,z):\n",
    "        return z**2 + self.c\n",
    "    \n",
    "    def iterate(self,z):\n",
    "        for counter in range(1,self.m+1):\n",
    "            z = self.juliamap(z)\n",
    "            if math.sqrt(z.real**2 + z.imag**2) > 2 :\n",
    "                return counter\n",
    "        return 0\n",
    "    \n",
    "    def set_spacing(self,d):\n",
    "        self._d = d\n",
    "        self.create_a_plane()\n",
    "        return self._complexplane"
   ]
  },
  {
   "cell_type": "code",
   "execution_count": 20,
   "metadata": {
    "collapsed": false
   },
   "outputs": [
    {
     "data": {
      "text/plain": [
       "array([[-2.00-2.j  , -2.00-1.99j, -2.00-1.98j, ..., -2.00+1.97j,\n",
       "        -2.00+1.98j, -2.00+1.99j],\n",
       "       [-1.99-2.j  , -1.99-1.99j, -1.99-1.98j, ..., -1.99+1.97j,\n",
       "        -1.99+1.98j, -1.99+1.99j],\n",
       "       [-1.98-2.j  , -1.98-1.99j, -1.98-1.98j, ..., -1.98+1.97j,\n",
       "        -1.98+1.98j, -1.98+1.99j],\n",
       "       ..., \n",
       "       [ 1.97-2.j  ,  1.97-1.99j,  1.97-1.98j, ...,  1.97+1.97j,\n",
       "         1.97+1.98j,  1.97+1.99j],\n",
       "       [ 1.98-2.j  ,  1.98-1.99j,  1.98-1.98j, ...,  1.98+1.97j,\n",
       "         1.98+1.98j,  1.98+1.99j],\n",
       "       [ 1.99-2.j  ,  1.99-1.99j,  1.99-1.98j, ...,  1.99+1.97j,\n",
       "         1.99+1.98j,  1.99+1.99j]])"
      ]
     },
     "execution_count": 20,
     "metadata": {},
     "output_type": "execute_result"
    }
   ],
   "source": [
    "juliasetObject = JuliaSet(1+1j)\n",
    "juliasetObject.set_spacing(0.01)"
   ]
  },
  {
   "cell_type": "code",
   "execution_count": 21,
   "metadata": {
    "collapsed": true
   },
   "outputs": [],
   "source": [
    "import math \n",
    "import numpy as np\n",
    "class JuliaSet:\n",
    "    def __init__(self, c, m = 100):\n",
    "        self._d = 0.001\n",
    "        self.c = c\n",
    "        self.m = m\n",
    "        self._complexplane = np.array([])\n",
    "        self.set = np.array([])\n",
    "    def create_a_plane(self):\n",
    "        self.limit = 2\n",
    "        self.r = np.arange(-self.limit,self.limit,self._d)\n",
    "        self._complexplane = self.r[:,np.newaxis] + self.r[np.newaxis,:]*1j\n",
    "        \n",
    "        \n",
    "    def juliamap(self,z):\n",
    "        return z**2 + self.c\n",
    "    \n",
    "    def iterate(self,z):\n",
    "        for counter in range(1,self.m+1):\n",
    "            z = self.juliamap(z)\n",
    "            if math.sqrt(z.real**2 + z.imag**2) > 2 :\n",
    "                return counter\n",
    "        return 0\n",
    "    \n",
    "    def set_spacing(self,d):\n",
    "        self._d = d\n",
    "        self.create_a_plane()\n",
    "        return self._complexplane\n",
    "    \n",
    "    def generate(self):\n",
    "        if not self._complexplane.size:\n",
    "            self.create_a_plane()\n",
    "            \n",
    "        vfunc = np.vectorize(self.iterate)\n",
    "        self.set = vfunc(self._complexplane)\n",
    "        return self.set\n",
    "        \n",
    "        "
   ]
  },
  {
   "cell_type": "code",
   "execution_count": 22,
   "metadata": {
    "collapsed": false
   },
   "outputs": [
    {
     "name": "stdout",
     "output_type": "stream",
     "text": [
      "1 loops, best of 3: 44.2 s per loop\n"
     ]
    },
    {
     "data": {
      "text/plain": [
       "array([[1, 1, 1, ..., 1, 1, 1],\n",
       "       [1, 1, 1, ..., 1, 1, 1],\n",
       "       [1, 1, 1, ..., 1, 1, 1],\n",
       "       ..., \n",
       "       [1, 1, 1, ..., 1, 1, 1],\n",
       "       [1, 1, 1, ..., 1, 1, 1],\n",
       "       [1, 1, 1, ..., 1, 1, 1]])"
      ]
     },
     "execution_count": 22,
     "metadata": {},
     "output_type": "execute_result"
    }
   ],
   "source": [
    "juliasetObject = JuliaSet(1+ 1j)\n",
    "juliasetObject.iterate(2-2j)\n",
    "%timeit juliasetObject.generate()\n",
    "juliasetObject.generate()"
   ]
  },
  {
   "cell_type": "code",
   "execution_count": null,
   "metadata": {
    "collapsed": true
   },
   "outputs": [],
   "source": [
    "# By running the generate function of the first julia set, we found as result that \" 1 loops, best of 3: 57.3 s per loop \".\n",
    "# By using numpy, we can see above that 1 loops, best of 3: 44.2 s per loop. One can then conclude that the use of numpy did \n",
    "# not drastically speed our generate function"
   ]
  }
 ],
 "metadata": {
  "kernelspec": {
   "display_name": "Python 2",
   "language": "python",
   "name": "python2"
  },
  "language_info": {
   "codemirror_mode": {
    "name": "ipython",
    "version": 2
   },
   "file_extension": ".py",
   "mimetype": "text/x-python",
   "name": "python",
   "nbconvert_exporter": "python",
   "pygments_lexer": "ipython2",
   "version": "2.7.9"
  },
  "name": "juliaset2manuallytested.ipynb"
 },
 "nbformat": 4,
 "nbformat_minor": 0
}
