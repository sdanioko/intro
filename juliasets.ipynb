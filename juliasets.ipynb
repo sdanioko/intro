{
 "cells": [
  {
   "cell_type": "markdown",
   "metadata": {
    "collapsed": false
   },
   "source": [
    "# juliasets\n",
    "# Homework set3\n",
    "# Workable code displayed in one big block\n",
    "# Done by Sidy Danioko"
   ]
  },
  {
   "cell_type": "code",
   "execution_count": null,
   "metadata": {
    "collapsed": true
   },
   "outputs": [],
   "source": [
    "# This code is the same juliasets. We just have it one big code\n",
    "import math \n",
    "\n",
    "class JuliaSet(object):\n",
    "    def __init__(self, c, m = 100):\n",
    "        self.set = []\n",
    "        self._d = 0.001\n",
    "        self.c = c\n",
    "        self.m = m\n",
    "        self._temp = int(2/self._d)\n",
    "        \n",
    "        \n",
    "        self._complexplane = [complex(a*self._d,(b*self._d)) for b in range(-self._temp, self._temp,1) for a in range(-self._temp,self._temp,1)]\n",
    "       \n",
    "    def juliamap(self,z):\n",
    "        return z**2 + self.c\n",
    "    \n",
    "    def iterate(self,z):\n",
    "        for counter in range(1,self.m+1):\n",
    "            z = self.juliamap(z)\n",
    "            if math.sqrt(z.real**2 + z.imag**2) > 2 :\n",
    "                return counter\n",
    "        return 0\n",
    "    \n",
    "    def set_spacing(self,d):\n",
    "        self._d = d\n",
    "        self._temp = int(2/self._d)\n",
    "        self._complexplane = [complex(a*self._d,(b*self._d)) for b in range(-self._temp, self._temp,1) for a in range(-self._temp,self._temp,1)]\n",
    "    \n",
    "    def generate(self):\n",
    "        self.set = [ self.iterate(i) for i in self._complexplane]\n",
    "        return self.set"
   ]
  }
 ],
 "metadata": {
  "kernelspec": {
   "display_name": "Python 2",
   "language": "python",
   "name": "python2"
  },
  "language_info": {
   "codemirror_mode": {
    "name": "ipython",
    "version": 2
   },
   "file_extension": ".py",
   "mimetype": "text/x-python",
   "name": "python",
   "nbconvert_exporter": "python",
   "pygments_lexer": "ipython2",
   "version": "2.7.9"
  },
  "name": "juliasets.ipynb"
 },
 "nbformat": 4,
 "nbformat_minor": 0
}
