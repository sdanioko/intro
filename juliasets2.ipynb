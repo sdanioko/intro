{
 "cells": [
  {
   "cell_type": "code",
   "execution_count": null,
   "metadata": {
    "collapsed": true
   },
   "outputs": [],
   "source": [
    "import math \n",
    "import numpy as np\n",
    "class juliaSet:\n",
    "    def __init__(self, c, m = 100):\n",
    "        self._d = 0.001\n",
    "        self.c = c\n",
    "        self.m = m\n",
    "        self._complexplane = np.array([])\n",
    "        self.set = np.array([])\n",
    "    def create_a_plane(self):\n",
    "        self.limit = 2\n",
    "        self.r = np.arange(-self.limit,self.limit,self._d)\n",
    "        self._complexplane = self.r[:,np.newaxis] + self.r[np.newaxis,:]*1j\n",
    "        \n",
    "        \n",
    "    def juliamap(self,z):\n",
    "        return z**2 + self.c\n",
    "    \n",
    "    def iterate(self,z):\n",
    "        for counter in range(1,self.m+1):\n",
    "            z = self.juliamap(z)\n",
    "            if math.sqrt(z.real**2 + z.imag**2) > 2 :\n",
    "                return counter\n",
    "        return 0\n",
    "    \n",
    "    def set_spacing(self,d):\n",
    "        self._d = d\n",
    "        self.create_a_plane()\n",
    "        return self._complexplane\n",
    "        \n",
    "    def generate(self):\n",
    "        if not self._complexplane.size:\n",
    "            self.create_a_plane()\n",
    "            \n",
    "        vfunc = np.vectorize(self.iterate)\n",
    "        self.set = vfunc(self._complexplane)\n",
    "        return self.set\n",
    "        "
   ]
  }
 ],
 "metadata": {
  "kernelspec": {
   "display_name": "Python 2",
   "language": "python",
   "name": "python2"
  },
  "language_info": {
   "codemirror_mode": {
    "name": "ipython",
    "version": 2
   },
   "file_extension": ".py",
   "mimetype": "text/x-python",
   "name": "python",
   "nbconvert_exporter": "python",
   "pygments_lexer": "ipython2",
   "version": "2.7.9"
  },
  "name": "juliasets2.ipynb"
 },
 "nbformat": 4,
 "nbformat_minor": 0
}
